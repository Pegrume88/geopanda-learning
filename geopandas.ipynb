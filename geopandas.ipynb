{
 "cells": [
  {
   "cell_type": "code",
   "execution_count": 1,
   "metadata": {},
   "outputs": [],
   "source": [
    "%matplotlib inline\n",
    "\n",
    "import requests\n",
    "import pandas as pd\n",
    "import geopandas as gpd\n",
    "\n",
    "from scipy.spatial.distance import cdist\n",
    "\n"
   ]
  },
  {
   "cell_type": "code",
   "execution_count": 2,
   "metadata": {},
   "outputs": [
    {
     "name": "stderr",
     "output_type": "stream",
     "text": [
      "/var/folders/rz/4_md5rj97hsbv_rh8833mnz40000gn/T/ipykernel_84743/2249817517.py:1: FutureWarning: The geopandas.dataset module is deprecated and will be removed in GeoPandas 1.0. You can get the original 'nybb' data from the geodatasets package.\n",
      "\n",
      "from geodatasets import get_path\n",
      "path_to_file = get_path('nybb')\n",
      "\n",
      "  boros_world = gpd.read_file(gpd.datasets.get_path('nybb'))\n"
     ]
    },
    {
     "name": "stdout",
     "output_type": "stream",
     "text": [
      "<class 'geopandas.geodataframe.GeoDataFrame'>, geometry\n",
      "   BoroCode       BoroName     Shape_Leng    Shape_Area  \\\n",
      "0         5  Staten Island  330470.010332  1.623820e+09   \n",
      "1         4         Queens  896344.047763  3.045213e+09   \n",
      "2         3       Brooklyn  741080.523166  1.937479e+09   \n",
      "3         1      Manhattan  359299.096471  6.364715e+08   \n",
      "4         2          Bronx  464392.991824  1.186925e+09   \n",
      "\n",
      "                                            geometry  \n",
      "0  MULTIPOLYGON (((970217.022 145643.332, 970227....  \n",
      "1  MULTIPOLYGON (((1029606.077 156073.814, 102957...  \n",
      "2  MULTIPOLYGON (((1021176.479 151374.797, 102100...  \n",
      "3  MULTIPOLYGON (((981219.056 188655.316, 980940....  \n",
      "4  MULTIPOLYGON (((1012821.806 229228.265, 101278...  \n",
      "MultiPolygon    5\n",
      "dtype: int64\n"
     ]
    }
   ],
   "source": [
    "boros_world = gpd.read_file(gpd.datasets.get_path('nybb'))\n",
    "print(f\"{type(boros_world)}, {boros_world.geometry.name}\")\n",
    "print(boros_world.head())\n",
    "print(boros_world.geometry.geom_type.value_counts())"
   ]
  },
  {
   "cell_type": "code",
   "execution_count": null,
   "metadata": {},
   "outputs": [],
   "source": []
  }
 ],
 "metadata": {
  "interpreter": {
   "hash": "daef2c18670d3d854423ff740eb7517de529b3cc9b5db18eca47175c3645576e"
  },
  "kernelspec": {
   "display_name": "Python 3.11.4 ('geop_env')",
   "language": "python",
   "name": "python3"
  },
  "language_info": {
   "codemirror_mode": {
    "name": "ipython",
    "version": 3
   },
   "file_extension": ".py",
   "mimetype": "text/x-python",
   "name": "python",
   "nbconvert_exporter": "python",
   "pygments_lexer": "ipython3",
   "version": "3.11.4"
  },
  "orig_nbformat": 4
 },
 "nbformat": 4,
 "nbformat_minor": 2
}
